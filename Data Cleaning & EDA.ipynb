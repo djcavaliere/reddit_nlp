{
 "cells": [
  {
   "cell_type": "code",
   "execution_count": 1,
   "id": "496e2fd0-1a60-4be1-8dc5-a460cfabf4eb",
   "metadata": {},
   "outputs": [],
   "source": [
    "import requests\n",
    "import pandas as pd\n",
    "import numpy as np\n",
    "import matplotlib.pyplot as plt\n",
    "import seaborn as sns\n",
    "import re\n",
    "from nltk.sentiment.vader import SentimentIntensityAnalyzer\n",
    "\n",
    "from sklearn.linear_model import LogisticRegression\n",
    "from sklearn.ensemble import RandomForestClassifier, ExtraTreesClassifier\n",
    "from sklearn.model_selection import train_test_split, GridSearchCV\n",
    "from sklearn.pipeline import Pipeline\n",
    "from sklearn.metrics import plot_confusion_matrix, confusion_matrix\n",
    "from sklearn.feature_extraction.text import CountVectorizer, TfidfVectorizer\n",
    "from sklearn.neighbors import KNeighborsClassifier"
   ]
  },
  {
   "cell_type": "code",
   "execution_count": 2,
   "id": "2f919e01-f062-46fb-886d-5878575b7a11",
   "metadata": {},
   "outputs": [],
   "source": [
    "%store -r demdata\n",
    "%store -r repdata"
   ]
  },
  {
   "cell_type": "markdown",
   "id": "e0e21c78-9e64-4956-b45a-5861ea4621df",
   "metadata": {},
   "source": [
    "### Data Cleaning\n",
    "Remove URLs - Done\n",
    "<br>Remove Duplicates - Done\n",
    "<br>Add Word Count Feature - Done\n",
    "<br>Analyze Word Count - Done\n",
    "<br>Remove documents with word count below interquartile range - Done\n"
   ]
  },
  {
   "cell_type": "code",
   "execution_count": 3,
   "id": "442d73dc-cbd9-4480-ba97-8ae25dde0359",
   "metadata": {},
   "outputs": [],
   "source": [
    "#Removing the urls from title feature\n",
    "#Reviewed code from a blog https://bobbyhadz.com/blog/python-remove-url-from-text\n",
    "demdata['title'] = [re.sub(r'http\\S+', '', title) for title in demdata['title']]"
   ]
  },
  {
   "cell_type": "code",
   "execution_count": 4,
   "id": "c4357bed-dedb-45e2-b83e-c8101d965b58",
   "metadata": {},
   "outputs": [],
   "source": [
    "#Drop Duplicate Rows\n",
    "demdata.drop_duplicates(inplace= True)"
   ]
  },
  {
   "cell_type": "code",
   "execution_count": 5,
   "id": "c15c00d4-1385-42e4-a91a-0c0be5c142d7",
   "metadata": {},
   "outputs": [],
   "source": [
    "demdata['title_word_count']= demdata['title'].str.split(' ').apply(len)"
   ]
  },
  {
   "cell_type": "code",
   "execution_count": 6,
   "id": "a867448c-e3d2-4702-965c-0227476f0a68",
   "metadata": {},
   "outputs": [
    {
     "data": {
      "image/png": "[encoded data removed]",
      "text/plain": [
       "<Figure size 360x360 with 1 Axes>"
      ]
     },
     "metadata": {
      "needs_background": "light"
     },
     "output_type": "display_data"
    }
   ],
   "source": [
    "sns.displot(demdata['title_word_count'],kind = 'kde');"
   ]
  },
  {
   "cell_type": "code",
   "execution_count": 7,
   "id": "c9f60a2d-36ae-46d4-a960-43b8263cbee4",
   "metadata": {},
   "outputs": [
    {
     "data": {
      "text/plain": [
       "count    9829.000000\n",
       "mean       12.722861\n",
       "std         8.069606\n",
       "min         1.000000\n",
       "25%         8.000000\n",
       "50%        11.000000\n",
       "75%        15.000000\n",
       "max        64.000000\n",
       "Name: title_word_count, dtype: float64"
      ]
     },
     "execution_count": 7,
     "metadata": {},
     "output_type": "execute_result"
    }
   ],
   "source": [
    "demdata['title_word_count'].describe()"
   ]
  },
  {
   "cell_type": "code",
   "execution_count": 8,
   "id": "65af39c7-0048-4f3f-a113-610848356c7f",
   "metadata": {},
   "outputs": [],
   "source": [
    "#Removing rows where title is less than 8 words because these posts don't have enough words to gather meaningful insight\n",
    "demdata = demdata[demdata['title_word_count'] > 8]"
   ]
  },
  {
   "cell_type": "code",
   "execution_count": 9,
   "id": "4e3fc37f-604c-468b-bb49-8e9fce04273b",
   "metadata": {},
   "outputs": [],
   "source": [
    "dem_vec = CountVectorizer(stop_words = 'english')\n",
    "\n",
    "X_dem= demdata['title']\n",
    "\n",
    "X_dem= dem_vec.fit_transform(X_dem)\n",
    "\n",
    "demdf = pd.DataFrame(X_dem.todense(), columns = dem_vec.get_feature_names_out())"
   ]
  },
  {
   "cell_type": "code",
   "execution_count": 10,
   "id": "2360a05d-2b42-45d5-85d6-bec7c6d08118",
   "metadata": {},
   "outputs": [
    {
     "data": {
      "text/plain": [
       "trump          1203\n",
       "biden           909\n",
       "democrats       487\n",
       "gop             464\n",
       "house           437\n",
       "republicans     395\n",
       "says            379\n",
       "court           378\n",
       "president       367\n",
       "abortion        333\n",
       "new             331\n",
       "republican      298\n",
       "supreme         290\n",
       "white           282\n",
       "senate          277\n",
       "election        232\n",
       "texas           231\n",
       "state           227\n",
       "people          211\n",
       "vote            194\n",
       "rights          188\n",
       "jan             186\n",
       "joe             185\n",
       "right           175\n",
       "news            175\n",
       "democratic      170\n",
       "just            170\n",
       "roe             159\n",
       "ukraine         158\n",
       "party           158\n",
       "don             154\n",
       "gun             148\n",
       "russia          144\n",
       "donald          139\n",
       "judge           138\n",
       "florida         136\n",
       "voting          135\n",
       "time            134\n",
       "america         133\n",
       "poll            133\n",
       "say             132\n",
       "governor        130\n",
       "like            130\n",
       "states          124\n",
       "january         124\n",
       "2022            121\n",
       "federal         121\n",
       "putin           119\n",
       "year            117\n",
       "americans       117\n",
       "dtype: int64"
      ]
     },
     "execution_count": 10,
     "metadata": {},
     "output_type": "execute_result"
    }
   ],
   "source": [
    "#Top 50 Words in Democrat Subreddit\n",
    "demdf.sum().sort_values(ascending = False).head(50)"
   ]
  },
  {
   "cell_type": "code",
   "execution_count": null,
   "id": "c4e21fcf-1618-4adc-9be1-e70bd720ff67",
   "metadata": {},
   "outputs": [],
   "source": []
  },
  {
   "cell_type": "code",
   "execution_count": null,
   "id": "8e8e84b1-fb22-4744-ac68-bd0b19754913",
   "metadata": {},
   "outputs": [],
   "source": []
  },
  {
   "cell_type": "code",
   "execution_count": 11,
   "id": "6bc74da5-3761-4653-943b-ff250759d8ca",
   "metadata": {},
   "outputs": [],
   "source": [
    "rep_vec = CountVectorizer(stop_words = 'english')\n",
    "\n",
    "X_rep= repdata['title']\n",
    "\n",
    "X_rep= rep_vec.fit_transform(X_rep)\n",
    "\n",
    "repdf = pd.DataFrame(X_rep.todense(), columns = rep_vec.get_feature_names_out())"
   ]
  },
  {
   "cell_type": "code",
   "execution_count": 12,
   "id": "d0c27cdc-a283-4b75-831c-ee34508ae16a",
   "metadata": {},
   "outputs": [
    {
     "data": {
      "text/plain": [
       "biden          1597\n",
       "trump          1020\n",
       "new             449\n",
       "democrats       373\n",
       "says            363\n",
       "joe             341\n",
       "fbi             316\n",
       "republicans     305\n",
       "gop             300\n",
       "republican      289\n",
       "election        277\n",
       "just            275\n",
       "hunter          262\n",
       "twitter         261\n",
       "president       257\n",
       "house           253\n",
       "people          242\n",
       "musk            231\n",
       "desantis        228\n",
       "video           226\n",
       "inflation       218\n",
       "poll            213\n",
       "elon            208\n",
       "america         206\n",
       "court           200\n",
       "abortion        197\n",
       "white           196\n",
       "news            192\n",
       "like            186\n",
       "american        180\n",
       "amp             177\n",
       "media           170\n",
       "state           170\n",
       "americans       164\n",
       "don             161\n",
       "florida         161\n",
       "covid           158\n",
       "democrat        157\n",
       "left            151\n",
       "gas             151\n",
       "watch           151\n",
       "school          147\n",
       "gun             146\n",
       "report          146\n",
       "2024            137\n",
       "texas           136\n",
       "senate          134\n",
       "right           133\n",
       "police          133\n",
       "vote            132\n",
       "dtype: int64"
      ]
     },
     "execution_count": 12,
     "metadata": {},
     "output_type": "execute_result"
    }
   ],
   "source": [
    "#Top 50 Words in Republican Subreddit\n",
    "repdf.sum().sort_values(ascending = False).head(50)"
   ]
  },
  {
   "cell_type": "code",
   "execution_count": 13,
   "id": "a29b6f4a-f1ed-48f4-8edf-b6ac63b70f4d",
   "metadata": {},
   "outputs": [],
   "source": [
    "# Instantiate Sentiment Intensity Analyzer\n",
    "sent = SentimentIntensityAnalyzer()"
   ]
  },
  {
   "cell_type": "code",
   "execution_count": 14,
   "id": "9bb69767-52e5-43da-981f-c19db136edc4",
   "metadata": {},
   "outputs": [],
   "source": [
    "dem_sent= [sent.polarity_scores(post) for post in demdata['title']]"
   ]
  },
  {
   "cell_type": "code",
   "execution_count": 15,
   "id": "5af89dac-705f-43a8-b305-52ba048f0696",
   "metadata": {},
   "outputs": [],
   "source": [
    "tempdf= pd.DataFrame.from_dict(dem_sent)"
   ]
  },
  {
   "cell_type": "code",
   "execution_count": 16,
   "id": "46651c69-cdf5-4f34-b81e-5b5537d2118c",
   "metadata": {},
   "outputs": [
    {
     "data": {
      "text/html": [
       "<div>\n",
       "<style scoped>\n",
       "    .dataframe tbody tr th:only-of-type {\n",
       "        vertical-align: middle;\n",
       "    }\n",
       "\n",
       "    .dataframe tbody tr th {\n",
       "        vertical-align: top;\n",
       "    }\n",
       "\n",
       "    .dataframe thead th {\n",
       "        text-align: right;\n",
       "    }\n",
       "</style>\n",
       "<table border=\"1\" class=\"dataframe\">\n",
       "  <thead>\n",
       "    <tr style=\"text-align: right;\">\n",
       "      <th></th>\n",
       "      <th>neg</th>\n",
       "      <th>neu</th>\n",
       "      <th>pos</th>\n",
       "      <th>compound</th>\n",
       "    </tr>\n",
       "  </thead>\n",
       "  <tbody>\n",
       "    <tr>\n",
       "      <th>0</th>\n",
       "      <td>0.471</td>\n",
       "      <td>0.529</td>\n",
       "      <td>0.000</td>\n",
       "      <td>-0.7906</td>\n",
       "    </tr>\n",
       "    <tr>\n",
       "      <th>1</th>\n",
       "      <td>0.140</td>\n",
       "      <td>0.764</td>\n",
       "      <td>0.096</td>\n",
       "      <td>-0.1779</td>\n",
       "    </tr>\n",
       "    <tr>\n",
       "      <th>2</th>\n",
       "      <td>0.000</td>\n",
       "      <td>0.913</td>\n",
       "      <td>0.087</td>\n",
       "      <td>0.3384</td>\n",
       "    </tr>\n",
       "    <tr>\n",
       "      <th>3</th>\n",
       "      <td>0.185</td>\n",
       "      <td>0.815</td>\n",
       "      <td>0.000</td>\n",
       "      <td>-0.3612</td>\n",
       "    </tr>\n",
       "    <tr>\n",
       "      <th>4</th>\n",
       "      <td>0.000</td>\n",
       "      <td>1.000</td>\n",
       "      <td>0.000</td>\n",
       "      <td>0.0000</td>\n",
       "    </tr>\n",
       "  </tbody>\n",
       "</table>\n",
       "</div>"
      ],
      "text/plain": [
       "     neg    neu    pos  compound\n",
       "0  0.471  0.529  0.000   -0.7906\n",
       "1  0.140  0.764  0.096   -0.1779\n",
       "2  0.000  0.913  0.087    0.3384\n",
       "3  0.185  0.815  0.000   -0.3612\n",
       "4  0.000  1.000  0.000    0.0000"
      ]
     },
     "execution_count": 16,
     "metadata": {},
     "output_type": "execute_result"
    }
   ],
   "source": [
    "tempdf.head()"
   ]
  },
  {
   "cell_type": "code",
   "execution_count": 17,
   "id": "0eb532b9-efc3-4c7e-8c4f-118dddbbfd27",
   "metadata": {},
   "outputs": [
    {
     "data": {
      "text/plain": [
       "(7175, 5)"
      ]
     },
     "execution_count": 17,
     "metadata": {},
     "output_type": "execute_result"
    }
   ],
   "source": [
    "demdata.shape"
   ]
  },
  {
   "cell_type": "code",
   "execution_count": 18,
   "id": "26c6de4c-0770-4bb3-80d2-190e8612ff41",
   "metadata": {},
   "outputs": [
    {
     "data": {
      "text/plain": [
       "(7175, 4)"
      ]
     },
     "execution_count": 18,
     "metadata": {},
     "output_type": "execute_result"
    }
   ],
   "source": [
    "tempdf.shape"
   ]
  },
  {
   "cell_type": "code",
   "execution_count": 19,
   "id": "92a26e3a-6029-45af-be02-9d88b275b141",
   "metadata": {},
   "outputs": [],
   "source": [
    "dem_sentdf = demdata.join(tempdf)"
   ]
  },
  {
   "cell_type": "code",
   "execution_count": 20,
   "id": "bae16a0f-b890-4a95-a381-270e62343862",
   "metadata": {},
   "outputs": [
    {
     "data": {
      "text/html": [
       "<div>\n",
       "<style scoped>\n",
       "    .dataframe tbody tr th:only-of-type {\n",
       "        vertical-align: middle;\n",
       "    }\n",
       "\n",
       "    .dataframe tbody tr th {\n",
       "        vertical-align: top;\n",
       "    }\n",
       "\n",
       "    .dataframe thead th {\n",
       "        text-align: right;\n",
       "    }\n",
       "</style>\n",
       "<table border=\"1\" class=\"dataframe\">\n",
       "  <thead>\n",
       "    <tr style=\"text-align: right;\">\n",
       "      <th></th>\n",
       "      <th>subreddit</th>\n",
       "      <th>title</th>\n",
       "      <th>selftext</th>\n",
       "      <th>author</th>\n",
       "      <th>title_word_count</th>\n",
       "      <th>neg</th>\n",
       "      <th>neu</th>\n",
       "      <th>pos</th>\n",
       "      <th>compound</th>\n",
       "    </tr>\n",
       "  </thead>\n",
       "  <tbody>\n",
       "    <tr>\n",
       "      <th>0</th>\n",
       "      <td>democrats</td>\n",
       "      <td>biden-harris administration announces $156 mil...</td>\n",
       "      <td></td>\n",
       "      <td>1000000students</td>\n",
       "      <td>11</td>\n",
       "      <td>0.471</td>\n",
       "      <td>0.529</td>\n",
       "      <td>0.0</td>\n",
       "      <td>-0.7906</td>\n",
       "    </tr>\n",
       "    <tr>\n",
       "      <th>0</th>\n",
       "      <td>democrats</td>\n",
       "      <td>dems need to revamp the party. biden is likely...</td>\n",
       "      <td>Obama was kinda close, but there was no follow...</td>\n",
       "      <td>xxrowanleigh</td>\n",
       "      <td>39</td>\n",
       "      <td>0.471</td>\n",
       "      <td>0.529</td>\n",
       "      <td>0.0</td>\n",
       "      <td>-0.7906</td>\n",
       "    </tr>\n",
       "    <tr>\n",
       "      <th>0</th>\n",
       "      <td>democrats</td>\n",
       "      <td>should the msm and social media companies comp...</td>\n",
       "      <td></td>\n",
       "      <td>ChrisSmith1969</td>\n",
       "      <td>29</td>\n",
       "      <td>0.471</td>\n",
       "      <td>0.529</td>\n",
       "      <td>0.0</td>\n",
       "      <td>-0.7906</td>\n",
       "    </tr>\n",
       "    <tr>\n",
       "      <th>0</th>\n",
       "      <td>democrats</td>\n",
       "      <td>trump says he's 'financially supporting' janua...</td>\n",
       "      <td></td>\n",
       "      <td>ManchiBoy</td>\n",
       "      <td>22</td>\n",
       "      <td>0.471</td>\n",
       "      <td>0.529</td>\n",
       "      <td>0.0</td>\n",
       "      <td>-0.7906</td>\n",
       "    </tr>\n",
       "    <tr>\n",
       "      <th>0</th>\n",
       "      <td>democrats</td>\n",
       "      <td>men convicted of conspiring to kidnap gretchen...</td>\n",
       "      <td></td>\n",
       "      <td>imll99</td>\n",
       "      <td>22</td>\n",
       "      <td>0.471</td>\n",
       "      <td>0.529</td>\n",
       "      <td>0.0</td>\n",
       "      <td>-0.7906</td>\n",
       "    </tr>\n",
       "  </tbody>\n",
       "</table>\n",
       "</div>"
      ],
      "text/plain": [
       "   subreddit                                              title  \\\n",
       "0  democrats  biden-harris administration announces $156 mil...   \n",
       "0  democrats  dems need to revamp the party. biden is likely...   \n",
       "0  democrats  should the msm and social media companies comp...   \n",
       "0  democrats  trump says he's 'financially supporting' janua...   \n",
       "0  democrats  men convicted of conspiring to kidnap gretchen...   \n",
       "\n",
       "                                            selftext           author  \\\n",
       "0                                                     1000000students   \n",
       "0  Obama was kinda close, but there was no follow...     xxrowanleigh   \n",
       "0                                                      ChrisSmith1969   \n",
       "0                                                           ManchiBoy   \n",
       "0                                                              imll99   \n",
       "\n",
       "   title_word_count    neg    neu  pos  compound  \n",
       "0                11  0.471  0.529  0.0   -0.7906  \n",
       "0                39  0.471  0.529  0.0   -0.7906  \n",
       "0                29  0.471  0.529  0.0   -0.7906  \n",
       "0                22  0.471  0.529  0.0   -0.7906  \n",
       "0                22  0.471  0.529  0.0   -0.7906  "
      ]
     },
     "execution_count": 20,
     "metadata": {},
     "output_type": "execute_result"
    }
   ],
   "source": [
    "dem_sentdf.head()"
   ]
  },
  {
   "cell_type": "code",
   "execution_count": 21,
   "id": "9e47ce3e-ad75-4261-9b88-5ce762f7c025",
   "metadata": {},
   "outputs": [],
   "source": [
    "dem_sentdf['comp'] = tempdf['compound']"
   ]
  },
  {
   "cell_type": "code",
   "execution_count": null,
   "id": "a87ee96a-16ea-46d8-909a-7656e5eeb5fc",
   "metadata": {},
   "outputs": [],
   "source": []
  },
  {
   "cell_type": "code",
   "execution_count": null,
   "id": "df2417fa-59ad-4633-96f2-61932d4c6ae0",
   "metadata": {},
   "outputs": [],
   "source": []
  },
  {
   "cell_type": "code",
   "execution_count": null,
   "id": "b9fca42a-6f4e-4efb-9268-f4470603c0c1",
   "metadata": {},
   "outputs": [],
   "source": []
  },
  {
   "cell_type": "code",
   "execution_count": null,
   "id": "44bba745-12be-4367-9614-4a014c873b38",
   "metadata": {},
   "outputs": [],
   "source": []
  },
  {
   "cell_type": "markdown",
   "id": "41412dd8-2334-468f-b792-8b60d0c08a0c",
   "metadata": {},
   "source": [
    "Next step is to analyze the sentiment scores for posts containing the top X topic area words.\n",
    "\n",
    "Understand whether users feel positive, negative, or neutral about the top topic areas."
   ]
  },
  {
   "cell_type": "markdown",
   "id": "5c143324-fb7b-46fb-bad1-9212eea8e2a4",
   "metadata": {},
   "source": [
    "## EDA Next Steps\n",
    "\n",
    "EDA)\n",
    "1) Data Cleaning Remove Posts with less than 25% quartile\n",
    "2) Remove Phone Numbers, Special Characters, Digits\n",
    "3) Lowercase all the titles\n",
    "4) Remove Duplicates\n",
    "5) Explore the self text column. Do I have enough posts with self text to use this column instead? What value does the title have versus self text?\n",
    "\n",
    "#Create a bar chart that better illustrates side by side the top 20 topics in dem and rep\n",
    "1) Where is there overlap in topics?\n",
    "2) What is the sentiment score look like where there is overlap?\n",
    "3) Where is there variance between what republicans are talking about and dems are not, vice versa?\n",
    "4) Sample some posts from the highest topics and strongest sentiment scores. How do people feel about these topics?\n",
    "5) Pull some samples where predictions were inaccurate? Where and why is the model failing?\n",
    "\n",
    "Model Improvements\n",
    "1) Stacking Model\n",
    "2) Analyze where model is struggling and see if we can remove certain features that are causing issues.\n"
   ]
  },
  {
   "cell_type": "code",
   "execution_count": 22,
   "id": "0b24ff79-c12f-4f45-b8ec-020c52fb1df6",
   "metadata": {},
   "outputs": [
    {
     "data": {
      "image/png": "[encoded data removed]",
      "text/plain": [
       "<Figure size 720x360 with 1 Axes>"
      ]
     },
     "metadata": {
      "needs_background": "light"
     },
     "output_type": "display_data"
    }
   ],
   "source": [
    "demdf.sum().sort_values(ascending=False).head(30).plot(kind='bar', figsize = (10,5));"
   ]
  },
  {
   "cell_type": "code",
   "execution_count": 23,
   "id": "b2b20fe1-e7fd-4a56-92e1-e142f9a82df0",
   "metadata": {},
   "outputs": [
    {
     "data": {
      "image/png": "[encoded data removed]",
      "text/plain": [
       "<Figure size 720x360 with 1 Axes>"
      ]
     },
     "metadata": {
      "needs_background": "light"
     },
     "output_type": "display_data"
    }
   ],
   "source": [
    "repdf.sum().sort_values(ascending=False).head(30).plot(kind='bar', figsize = (10,5));"
   ]
  },
  {
   "cell_type": "code",
   "execution_count": 24,
   "id": "5dea4024-fd04-494e-b95e-36ee761108f7",
   "metadata": {},
   "outputs": [
    {
     "name": "stderr",
     "output_type": "stream",
     "text": [
      "C:\\Users\\dylan\\AppData\\Local\\Temp\\ipykernel_18468\\1890738687.py:1: SettingWithCopyWarning: \n",
      "A value is trying to be set on a copy of a slice from a DataFrame.\n",
      "Try using .loc[row_indexer,col_indexer] = value instead\n",
      "\n",
      "See the caveats in the documentation: https://pandas.pydata.org/pandas-docs/stable/user_guide/indexing.html#returning-a-view-versus-a-copy\n",
      "  demdata['selftext']= demdata['selftext'].astype(str)\n"
     ]
    }
   ],
   "source": [
    "demdata['selftext']= demdata['selftext'].astype(str)"
   ]
  },
  {
   "cell_type": "code",
   "execution_count": 25,
   "id": "385f413c-6def-4765-8ca0-903f36748ab5",
   "metadata": {},
   "outputs": [
    {
     "name": "stderr",
     "output_type": "stream",
     "text": [
      "C:\\Users\\dylan\\AppData\\Local\\Temp\\ipykernel_18468\\2279875627.py:1: SettingWithCopyWarning: \n",
      "A value is trying to be set on a copy of a slice from a DataFrame.\n",
      "Try using .loc[row_indexer,col_indexer] = value instead\n",
      "\n",
      "See the caveats in the documentation: https://pandas.pydata.org/pandas-docs/stable/user_guide/indexing.html#returning-a-view-versus-a-copy\n",
      "  demdata['selftext_word_count'] = demdata['selftext'].str.split(' ').apply(len)\n"
     ]
    }
   ],
   "source": [
    "demdata['selftext_word_count'] = demdata['selftext'].str.split(' ').apply(len)"
   ]
  },
  {
   "cell_type": "code",
   "execution_count": 26,
   "id": "22376a05-6779-4c25-a661-79949ae3d6b1",
   "metadata": {},
   "outputs": [
    {
     "data": {
      "text/html": [
       "<div>\n",
       "<style scoped>\n",
       "    .dataframe tbody tr th:only-of-type {\n",
       "        vertical-align: middle;\n",
       "    }\n",
       "\n",
       "    .dataframe tbody tr th {\n",
       "        vertical-align: top;\n",
       "    }\n",
       "\n",
       "    .dataframe thead th {\n",
       "        text-align: right;\n",
       "    }\n",
       "</style>\n",
       "<table border=\"1\" class=\"dataframe\">\n",
       "  <thead>\n",
       "    <tr style=\"text-align: right;\">\n",
       "      <th></th>\n",
       "      <th>subreddit</th>\n",
       "      <th>title</th>\n",
       "      <th>selftext</th>\n",
       "      <th>author</th>\n",
       "      <th>title_word_count</th>\n",
       "      <th>selftext_word_count</th>\n",
       "    </tr>\n",
       "  </thead>\n",
       "  <tbody>\n",
       "    <tr>\n",
       "      <th>1</th>\n",
       "      <td>democrats</td>\n",
       "      <td>hurricane ian’s toll is severe. lack of insura...</td>\n",
       "      <td>1. Vote for politicians who don’t believe in c...</td>\n",
       "      <td>TexasBogart</td>\n",
       "      <td>12</td>\n",
       "      <td>35</td>\n",
       "    </tr>\n",
       "    <tr>\n",
       "      <th>56</th>\n",
       "      <td>democrats</td>\n",
       "      <td>theory on how we ended up with the special mas...</td>\n",
       "      <td>Trump: We need to delay this as long as possib...</td>\n",
       "      <td>bluechip1996</td>\n",
       "      <td>15</td>\n",
       "      <td>57</td>\n",
       "    </tr>\n",
       "    <tr>\n",
       "      <th>107</th>\n",
       "      <td>democrats</td>\n",
       "      <td>john fetterman explains the meanings behind hi...</td>\n",
       "      <td>A true civil servant’s heart.</td>\n",
       "      <td>CQU617</td>\n",
       "      <td>28</td>\n",
       "      <td>5</td>\n",
       "    </tr>\n",
       "    <tr>\n",
       "      <th>135</th>\n",
       "      <td>democrats</td>\n",
       "      <td>a message for va’s 6th district: fire ben clin...</td>\n",
       "      <td>In Roanoke, there’s so little chatter about th...</td>\n",
       "      <td>campbellscrambles</td>\n",
       "      <td>10</td>\n",
       "      <td>22</td>\n",
       "    </tr>\n",
       "    <tr>\n",
       "      <th>59</th>\n",
       "      <td>democrats</td>\n",
       "      <td>i want to sign up as a democrat voter, but i'm...</td>\n",
       "      <td>My dad *ABSOLUTELY* hates democrats, but look ...</td>\n",
       "      <td>facelesscat04</td>\n",
       "      <td>21</td>\n",
       "      <td>199</td>\n",
       "    </tr>\n",
       "    <tr>\n",
       "      <th>...</th>\n",
       "      <td>...</td>\n",
       "      <td>...</td>\n",
       "      <td>...</td>\n",
       "      <td>...</td>\n",
       "      <td>...</td>\n",
       "      <td>...</td>\n",
       "    </tr>\n",
       "    <tr>\n",
       "      <th>60</th>\n",
       "      <td>democrats</td>\n",
       "      <td>florida’s new ‘don’t tread on me’ license plat...</td>\n",
       "      <td>Visiting Florida this week, spending my hard e...</td>\n",
       "      <td>Spear-of-Stars</td>\n",
       "      <td>10</td>\n",
       "      <td>45</td>\n",
       "    </tr>\n",
       "    <tr>\n",
       "      <th>184</th>\n",
       "      <td>democrats</td>\n",
       "      <td>election deniers are running to control voting...</td>\n",
       "      <td>Vote for your choice. Keep these deniers out.</td>\n",
       "      <td>Purple_Syllabub_3417</td>\n",
       "      <td>15</td>\n",
       "      <td>8</td>\n",
       "    </tr>\n",
       "    <tr>\n",
       "      <th>45</th>\n",
       "      <td>democrats</td>\n",
       "      <td>my favorite line for today's hearing came from...</td>\n",
       "      <td>During Trump's Jan. 3rd meeting with DOJ offic...</td>\n",
       "      <td>backpackwayne</td>\n",
       "      <td>16</td>\n",
       "      <td>166</td>\n",
       "    </tr>\n",
       "    <tr>\n",
       "      <th>133</th>\n",
       "      <td>democrats</td>\n",
       "      <td>could i get a brief bullet point description o...</td>\n",
       "      <td>I keep a list of Joe Biden's accomplishment as...</td>\n",
       "      <td>backpackwayne</td>\n",
       "      <td>24</td>\n",
       "      <td>32</td>\n",
       "    </tr>\n",
       "    <tr>\n",
       "      <th>98</th>\n",
       "      <td>democrats</td>\n",
       "      <td>be careful when you post to r/politics and r/a...</td>\n",
       "      <td>I have fallen for this trap several times and ...</td>\n",
       "      <td>backpackwayne</td>\n",
       "      <td>17</td>\n",
       "      <td>80</td>\n",
       "    </tr>\n",
       "  </tbody>\n",
       "</table>\n",
       "<p>70 rows × 6 columns</p>\n",
       "</div>"
      ],
      "text/plain": [
       "     subreddit                                              title  \\\n",
       "1    democrats  hurricane ian’s toll is severe. lack of insura...   \n",
       "56   democrats  theory on how we ended up with the special mas...   \n",
       "107  democrats  john fetterman explains the meanings behind hi...   \n",
       "135  democrats  a message for va’s 6th district: fire ben clin...   \n",
       "59   democrats  i want to sign up as a democrat voter, but i'm...   \n",
       "..         ...                                                ...   \n",
       "60   democrats  florida’s new ‘don’t tread on me’ license plat...   \n",
       "184  democrats  election deniers are running to control voting...   \n",
       "45   democrats  my favorite line for today's hearing came from...   \n",
       "133  democrats  could i get a brief bullet point description o...   \n",
       "98   democrats  be careful when you post to r/politics and r/a...   \n",
       "\n",
       "                                              selftext                author  \\\n",
       "1    1. Vote for politicians who don’t believe in c...           TexasBogart   \n",
       "56   Trump: We need to delay this as long as possib...          bluechip1996   \n",
       "107                      A true civil servant’s heart.                CQU617   \n",
       "135  In Roanoke, there’s so little chatter about th...     campbellscrambles   \n",
       "59   My dad *ABSOLUTELY* hates democrats, but look ...         facelesscat04   \n",
       "..                                                 ...                   ...   \n",
       "60   Visiting Florida this week, spending my hard e...        Spear-of-Stars   \n",
       "184      Vote for your choice. Keep these deniers out.  Purple_Syllabub_3417   \n",
       "45   During Trump's Jan. 3rd meeting with DOJ offic...         backpackwayne   \n",
       "133  I keep a list of Joe Biden's accomplishment as...         backpackwayne   \n",
       "98   I have fallen for this trap several times and ...         backpackwayne   \n",
       "\n",
       "     title_word_count  selftext_word_count  \n",
       "1                  12                   35  \n",
       "56                 15                   57  \n",
       "107                28                    5  \n",
       "135                10                   22  \n",
       "59                 21                  199  \n",
       "..                ...                  ...  \n",
       "60                 10                   45  \n",
       "184                15                    8  \n",
       "45                 16                  166  \n",
       "133                24                   32  \n",
       "98                 17                   80  \n",
       "\n",
       "[70 rows x 6 columns]"
      ]
     },
     "execution_count": 26,
     "metadata": {},
     "output_type": "execute_result"
    }
   ],
   "source": [
    "#Democrat Subreddit does not typically include self text only 122 posts have self text\n",
    "#As such I am choosing to just use the title for this analysis\n",
    "demdata[demdata['selftext_word_count'] > 1]"
   ]
  },
  {
   "cell_type": "code",
   "execution_count": 27,
   "id": "c5033431-13a6-4d98-8298-15e1ca686f7b",
   "metadata": {},
   "outputs": [],
   "source": [
    "import re\n",
    "\n",
    "def remove_url(titles):\n",
    "    clean_title= []\n",
    "    for text in demdata['title']:\n",
    "        result = re.sub(r'http\\S+', '', text)\n",
    "        clean_title.append(result)\n",
    "    return clean_title"
   ]
  },
  {
   "cell_type": "code",
   "execution_count": 28,
   "id": "4f68d051-f2ed-4403-b864-b5d13d2b85b6",
   "metadata": {},
   "outputs": [],
   "source": [
    "def find_url(titles):\n",
    "    apples_index = []\n",
    "    for s in titles:\n",
    "        if 'http' in s:\n",
    "            apples_index.append(s)\n",
    "    return apples_index"
   ]
  },
  {
   "cell_type": "code",
   "execution_count": 29,
   "id": "f7f2579f-a187-431c-b420-261c583508c0",
   "metadata": {
    "scrolled": true,
    "tags": []
   },
   "outputs": [
    {
     "data": {
      "text/plain": [
       "[]"
      ]
     },
     "execution_count": 29,
     "metadata": {},
     "output_type": "execute_result"
    }
   ],
   "source": [
    "find_url(demdata['title'])"
   ]
  },
  {
   "cell_type": "code",
   "execution_count": 30,
   "id": "68690a84-37f3-4deb-90ee-b49dabb00d75",
   "metadata": {},
   "outputs": [],
   "source": [
    "#org 6\n",
    "#net 2\n",
    "#com 31"
   ]
  }
 ],
 "metadata": {
  "kernelspec": {
   "display_name": "Python 3 (ipykernel)",
   "language": "python",
   "name": "python3"
  },
  "language_info": {
   "codemirror_mode": {
    "name": "ipython",
    "version": 3
   },
   "file_extension": ".py",
   "mimetype": "text/x-python",
   "name": "python",
   "nbconvert_exporter": "python",
   "pygments_lexer": "ipython3",
   "version": "3.9.12"
  }
 },
 "nbformat": 4,
 "nbformat_minor": 5
}
