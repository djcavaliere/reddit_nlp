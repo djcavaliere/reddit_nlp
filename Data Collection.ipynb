{
 "cells": [
  {
   "cell_type": "code",
   "execution_count": 1,
   "id": "4ae4e18d-97d5-4ebf-b2f2-30ad81ea6725",
   "metadata": {},
   "outputs": [],
   "source": [
    "import requests\n",
    "import pandas as pd\n",
    "import numpy as np\n",
    "import matplotlib.pyplot as plt\n",
    "import seaborn as sns\n",
    "from nltk.sentiment.vader import SentimentIntensityAnalyzer\n",
    "\n",
    "from sklearn.linear_model import LogisticRegression\n",
    "from sklearn.ensemble import RandomForestClassifier, ExtraTreesClassifier\n",
    "from sklearn.model_selection import train_test_split, GridSearchCV\n",
    "from sklearn.pipeline import Pipeline\n",
    "from sklearn.metrics import plot_confusion_matrix, confusion_matrix\n",
    "from sklearn.feature_extraction.text import CountVectorizer, TfidfVectorizer\n",
    "from sklearn.neighbors import KNeighborsClassifier"
   ]
  },
  {
   "cell_type": "markdown",
   "id": "5994e5c5-4e4f-490e-9f4d-8baf64add8e8",
   "metadata": {},
   "source": [
    "## Democrat Subreddit Collection"
   ]
  },
  {
   "cell_type": "code",
   "execution_count": 2,
   "id": "4da0c1bf-b9fc-47d7-b60f-11fb8666a2ea",
   "metadata": {},
   "outputs": [
    {
     "name": "stderr",
     "output_type": "stream",
     "text": [
      "C:\\Users\\dylan\\AppData\\Local\\Temp\\ipykernel_7224\\2413850914.py:25: FutureWarning: The frame.append method is deprecated and will be removed from pandas in a future version. Use pandas.concat instead.\n",
      "  dems_df= dems_df.append(tempdf2)\n",
      "C:\\Users\\dylan\\AppData\\Local\\Temp\\ipykernel_7224\\2413850914.py:25: FutureWarning: The frame.append method is deprecated and will be removed from pandas in a future version. Use pandas.concat instead.\n",
      "  dems_df= dems_df.append(tempdf2)\n",
      "C:\\Users\\dylan\\AppData\\Local\\Temp\\ipykernel_7224\\2413850914.py:25: FutureWarning: The frame.append method is deprecated and will be removed from pandas in a future version. Use pandas.concat instead.\n",
      "  dems_df= dems_df.append(tempdf2)\n",
      "C:\\Users\\dylan\\AppData\\Local\\Temp\\ipykernel_7224\\2413850914.py:25: FutureWarning: The frame.append method is deprecated and will be removed from pandas in a future version. Use pandas.concat instead.\n",
      "  dems_df= dems_df.append(tempdf2)\n",
      "C:\\Users\\dylan\\AppData\\Local\\Temp\\ipykernel_7224\\2413850914.py:25: FutureWarning: The frame.append method is deprecated and will be removed from pandas in a future version. Use pandas.concat instead.\n",
      "  dems_df= dems_df.append(tempdf2)\n",
      "C:\\Users\\dylan\\AppData\\Local\\Temp\\ipykernel_7224\\2413850914.py:25: FutureWarning: The frame.append method is deprecated and will be removed from pandas in a future version. Use pandas.concat instead.\n",
      "  dems_df= dems_df.append(tempdf2)\n",
      "C:\\Users\\dylan\\AppData\\Local\\Temp\\ipykernel_7224\\2413850914.py:25: FutureWarning: The frame.append method is deprecated and will be removed from pandas in a future version. Use pandas.concat instead.\n",
      "  dems_df= dems_df.append(tempdf2)\n",
      "C:\\Users\\dylan\\AppData\\Local\\Temp\\ipykernel_7224\\2413850914.py:25: FutureWarning: The frame.append method is deprecated and will be removed from pandas in a future version. Use pandas.concat instead.\n",
      "  dems_df= dems_df.append(tempdf2)\n",
      "C:\\Users\\dylan\\AppData\\Local\\Temp\\ipykernel_7224\\2413850914.py:25: FutureWarning: The frame.append method is deprecated and will be removed from pandas in a future version. Use pandas.concat instead.\n",
      "  dems_df= dems_df.append(tempdf2)\n",
      "C:\\Users\\dylan\\AppData\\Local\\Temp\\ipykernel_7224\\2413850914.py:25: FutureWarning: The frame.append method is deprecated and will be removed from pandas in a future version. Use pandas.concat instead.\n",
      "  dems_df= dems_df.append(tempdf2)\n",
      "C:\\Users\\dylan\\AppData\\Local\\Temp\\ipykernel_7224\\2413850914.py:25: FutureWarning: The frame.append method is deprecated and will be removed from pandas in a future version. Use pandas.concat instead.\n",
      "  dems_df= dems_df.append(tempdf2)\n",
      "C:\\Users\\dylan\\AppData\\Local\\Temp\\ipykernel_7224\\2413850914.py:25: FutureWarning: The frame.append method is deprecated and will be removed from pandas in a future version. Use pandas.concat instead.\n",
      "  dems_df= dems_df.append(tempdf2)\n",
      "C:\\Users\\dylan\\AppData\\Local\\Temp\\ipykernel_7224\\2413850914.py:25: FutureWarning: The frame.append method is deprecated and will be removed from pandas in a future version. Use pandas.concat instead.\n",
      "  dems_df= dems_df.append(tempdf2)\n",
      "C:\\Users\\dylan\\AppData\\Local\\Temp\\ipykernel_7224\\2413850914.py:25: FutureWarning: The frame.append method is deprecated and will be removed from pandas in a future version. Use pandas.concat instead.\n",
      "  dems_df= dems_df.append(tempdf2)\n",
      "C:\\Users\\dylan\\AppData\\Local\\Temp\\ipykernel_7224\\2413850914.py:25: FutureWarning: The frame.append method is deprecated and will be removed from pandas in a future version. Use pandas.concat instead.\n",
      "  dems_df= dems_df.append(tempdf2)\n",
      "C:\\Users\\dylan\\AppData\\Local\\Temp\\ipykernel_7224\\2413850914.py:25: FutureWarning: The frame.append method is deprecated and will be removed from pandas in a future version. Use pandas.concat instead.\n",
      "  dems_df= dems_df.append(tempdf2)\n",
      "C:\\Users\\dylan\\AppData\\Local\\Temp\\ipykernel_7224\\2413850914.py:25: FutureWarning: The frame.append method is deprecated and will be removed from pandas in a future version. Use pandas.concat instead.\n",
      "  dems_df= dems_df.append(tempdf2)\n",
      "C:\\Users\\dylan\\AppData\\Local\\Temp\\ipykernel_7224\\2413850914.py:25: FutureWarning: The frame.append method is deprecated and will be removed from pandas in a future version. Use pandas.concat instead.\n",
      "  dems_df= dems_df.append(tempdf2)\n",
      "C:\\Users\\dylan\\AppData\\Local\\Temp\\ipykernel_7224\\2413850914.py:25: FutureWarning: The frame.append method is deprecated and will be removed from pandas in a future version. Use pandas.concat instead.\n",
      "  dems_df= dems_df.append(tempdf2)\n",
      "C:\\Users\\dylan\\AppData\\Local\\Temp\\ipykernel_7224\\2413850914.py:25: FutureWarning: The frame.append method is deprecated and will be removed from pandas in a future version. Use pandas.concat instead.\n",
      "  dems_df= dems_df.append(tempdf2)\n",
      "C:\\Users\\dylan\\AppData\\Local\\Temp\\ipykernel_7224\\2413850914.py:25: FutureWarning: The frame.append method is deprecated and will be removed from pandas in a future version. Use pandas.concat instead.\n",
      "  dems_df= dems_df.append(tempdf2)\n",
      "C:\\Users\\dylan\\AppData\\Local\\Temp\\ipykernel_7224\\2413850914.py:25: FutureWarning: The frame.append method is deprecated and will be removed from pandas in a future version. Use pandas.concat instead.\n",
      "  dems_df= dems_df.append(tempdf2)\n",
      "C:\\Users\\dylan\\AppData\\Local\\Temp\\ipykernel_7224\\2413850914.py:25: FutureWarning: The frame.append method is deprecated and will be removed from pandas in a future version. Use pandas.concat instead.\n",
      "  dems_df= dems_df.append(tempdf2)\n",
      "C:\\Users\\dylan\\AppData\\Local\\Temp\\ipykernel_7224\\2413850914.py:25: FutureWarning: The frame.append method is deprecated and will be removed from pandas in a future version. Use pandas.concat instead.\n",
      "  dems_df= dems_df.append(tempdf2)\n",
      "C:\\Users\\dylan\\AppData\\Local\\Temp\\ipykernel_7224\\2413850914.py:25: FutureWarning: The frame.append method is deprecated and will be removed from pandas in a future version. Use pandas.concat instead.\n",
      "  dems_df= dems_df.append(tempdf2)\n",
      "C:\\Users\\dylan\\AppData\\Local\\Temp\\ipykernel_7224\\2413850914.py:25: FutureWarning: The frame.append method is deprecated and will be removed from pandas in a future version. Use pandas.concat instead.\n",
      "  dems_df= dems_df.append(tempdf2)\n",
      "C:\\Users\\dylan\\AppData\\Local\\Temp\\ipykernel_7224\\2413850914.py:25: FutureWarning: The frame.append method is deprecated and will be removed from pandas in a future version. Use pandas.concat instead.\n",
      "  dems_df= dems_df.append(tempdf2)\n",
      "C:\\Users\\dylan\\AppData\\Local\\Temp\\ipykernel_7224\\2413850914.py:25: FutureWarning: The frame.append method is deprecated and will be removed from pandas in a future version. Use pandas.concat instead.\n",
      "  dems_df= dems_df.append(tempdf2)\n",
      "C:\\Users\\dylan\\AppData\\Local\\Temp\\ipykernel_7224\\2413850914.py:25: FutureWarning: The frame.append method is deprecated and will be removed from pandas in a future version. Use pandas.concat instead.\n",
      "  dems_df= dems_df.append(tempdf2)\n",
      "C:\\Users\\dylan\\AppData\\Local\\Temp\\ipykernel_7224\\2413850914.py:25: FutureWarning: The frame.append method is deprecated and will be removed from pandas in a future version. Use pandas.concat instead.\n",
      "  dems_df= dems_df.append(tempdf2)\n",
      "C:\\Users\\dylan\\AppData\\Local\\Temp\\ipykernel_7224\\2413850914.py:25: FutureWarning: The frame.append method is deprecated and will be removed from pandas in a future version. Use pandas.concat instead.\n",
      "  dems_df= dems_df.append(tempdf2)\n",
      "C:\\Users\\dylan\\AppData\\Local\\Temp\\ipykernel_7224\\2413850914.py:25: FutureWarning: The frame.append method is deprecated and will be removed from pandas in a future version. Use pandas.concat instead.\n",
      "  dems_df= dems_df.append(tempdf2)\n",
      "C:\\Users\\dylan\\AppData\\Local\\Temp\\ipykernel_7224\\2413850914.py:25: FutureWarning: The frame.append method is deprecated and will be removed from pandas in a future version. Use pandas.concat instead.\n",
      "  dems_df= dems_df.append(tempdf2)\n",
      "C:\\Users\\dylan\\AppData\\Local\\Temp\\ipykernel_7224\\2413850914.py:25: FutureWarning: The frame.append method is deprecated and will be removed from pandas in a future version. Use pandas.concat instead.\n",
      "  dems_df= dems_df.append(tempdf2)\n",
      "C:\\Users\\dylan\\AppData\\Local\\Temp\\ipykernel_7224\\2413850914.py:25: FutureWarning: The frame.append method is deprecated and will be removed from pandas in a future version. Use pandas.concat instead.\n",
      "  dems_df= dems_df.append(tempdf2)\n",
      "C:\\Users\\dylan\\AppData\\Local\\Temp\\ipykernel_7224\\2413850914.py:25: FutureWarning: The frame.append method is deprecated and will be removed from pandas in a future version. Use pandas.concat instead.\n",
      "  dems_df= dems_df.append(tempdf2)\n",
      "C:\\Users\\dylan\\AppData\\Local\\Temp\\ipykernel_7224\\2413850914.py:25: FutureWarning: The frame.append method is deprecated and will be removed from pandas in a future version. Use pandas.concat instead.\n",
      "  dems_df= dems_df.append(tempdf2)\n",
      "C:\\Users\\dylan\\AppData\\Local\\Temp\\ipykernel_7224\\2413850914.py:25: FutureWarning: The frame.append method is deprecated and will be removed from pandas in a future version. Use pandas.concat instead.\n",
      "  dems_df= dems_df.append(tempdf2)\n",
      "C:\\Users\\dylan\\AppData\\Local\\Temp\\ipykernel_7224\\2413850914.py:25: FutureWarning: The frame.append method is deprecated and will be removed from pandas in a future version. Use pandas.concat instead.\n",
      "  dems_df= dems_df.append(tempdf2)\n"
     ]
    }
   ],
   "source": [
    "#data collection from Dems Subreddit\n",
    "url= 'https://api.pushshift.io/reddit/search/submission'\n",
    "\n",
    "#pull the fist 250 posts \n",
    "params1 = {\n",
    "            'subreddit' : 'democrats',\n",
    "            'size' : 250\n",
    "        }\n",
    "req = requests.get(url, params1)\n",
    "dem_data = req.json()\n",
    "tempdf= dem_data['data'] \n",
    "dems_df= pd.DataFrame(tempdf)\n",
    "\n",
    "#using a for loop to pull ~10k posts in batches of 250 (limit set by reddit API)\n",
    "for i in range(1,40):\n",
    "    params2 = {\n",
    "            'subreddit' : 'democrats',\n",
    "            'size' : 250,\n",
    "            'before': dems_df['created_utc'][-1:]\n",
    "        }\n",
    "\n",
    "    req2 = requests.get(url, params2)\n",
    "    dem_data2 = req2.json()\n",
    "    tempdf2= dem_data2['data']\n",
    "    dems_df= dems_df.append(tempdf2)\n",
    "    "
   ]
  },
  {
   "cell_type": "code",
   "execution_count": 4,
   "id": "6b11bde6-d1b5-45b9-b226-e47bbb705ccf",
   "metadata": {},
   "outputs": [
    {
     "data": {
      "text/plain": [
       "Index(['all_awardings', 'allow_live_comments', 'author',\n",
       "       'author_flair_css_class', 'author_flair_richtext', 'author_flair_text',\n",
       "       'author_flair_type', 'author_fullname', 'author_is_blocked',\n",
       "       'author_patreon_flair', 'author_premium', 'awarders', 'can_mod_post',\n",
       "       'contest_mode', 'created_utc', 'domain', 'full_link', 'gildings', 'id',\n",
       "       'is_created_from_ads_ui', 'is_crosspostable', 'is_meta',\n",
       "       'is_original_content', 'is_reddit_media_domain', 'is_robot_indexable',\n",
       "       'is_self', 'is_video', 'link_flair_background_color',\n",
       "       'link_flair_richtext', 'link_flair_text', 'link_flair_text_color',\n",
       "       'link_flair_type', 'locked', 'media_only', 'no_follow', 'num_comments',\n",
       "       'num_crossposts', 'over_18', 'parent_whitelist_status', 'permalink',\n",
       "       'pinned', 'post_hint', 'preview', 'pwls', 'removed_by_category',\n",
       "       'retrieved_on', 'score', 'selftext', 'send_replies', 'spoiler',\n",
       "       'stickied', 'subreddit', 'subreddit_id', 'subreddit_subscribers',\n",
       "       'subreddit_type', 'thumbnail', 'thumbnail_height', 'thumbnail_width',\n",
       "       'title', 'total_awards_received', 'treatment_tags', 'upvote_ratio',\n",
       "       'url', 'url_overridden_by_dest', 'whitelist_status', 'wls',\n",
       "       'link_flair_template_id', 'media', 'media_embed', 'secure_media',\n",
       "       'secure_media_embed', 'author_flair_background_color',\n",
       "       'author_flair_text_color', 'author_flair_template_id', 'call_to_action',\n",
       "       'category', 'distinguished', 'media_metadata', 'crosspost_parent',\n",
       "       'crosspost_parent_list', 'banned_by', 'author_cakeday',\n",
       "       'suggested_sort'],\n",
       "      dtype='object')"
      ]
     },
     "execution_count": 4,
     "metadata": {},
     "output_type": "execute_result"
    }
   ],
   "source": [
    "dems_df.columns"
   ]
  },
  {
   "cell_type": "code",
   "execution_count": 5,
   "id": "4fc2df6e-d237-4555-a557-640dccf494dc",
   "metadata": {},
   "outputs": [],
   "source": [
    "demdata= dems_df[['subreddit', 'title', 'selftext', 'author' ]]"
   ]
  },
  {
   "cell_type": "code",
   "execution_count": 6,
   "id": "7b098219-17bc-44b6-aa5a-c902f0abbc90",
   "metadata": {},
   "outputs": [
    {
     "data": {
      "text/html": [
       "<div>\n",
       "<style scoped>\n",
       "    .dataframe tbody tr th:only-of-type {\n",
       "        vertical-align: middle;\n",
       "    }\n",
       "\n",
       "    .dataframe tbody tr th {\n",
       "        vertical-align: top;\n",
       "    }\n",
       "\n",
       "    .dataframe thead th {\n",
       "        text-align: right;\n",
       "    }\n",
       "</style>\n",
       "<table border=\"1\" class=\"dataframe\">\n",
       "  <thead>\n",
       "    <tr style=\"text-align: right;\">\n",
       "      <th></th>\n",
       "      <th>subreddit</th>\n",
       "      <th>title</th>\n",
       "      <th>selftext</th>\n",
       "      <th>author</th>\n",
       "    </tr>\n",
       "  </thead>\n",
       "  <tbody>\n",
       "    <tr>\n",
       "      <th>0</th>\n",
       "      <td>democrats</td>\n",
       "      <td>The Georgia Peach 🍑</td>\n",
       "      <td></td>\n",
       "      <td>ImaginationFree6807</td>\n",
       "    </tr>\n",
       "    <tr>\n",
       "      <th>1</th>\n",
       "      <td>democrats</td>\n",
       "      <td>Hurricane Ian’s Toll Is Severe. Lack of Insura...</td>\n",
       "      <td>1. Vote for politicians who don’t believe in c...</td>\n",
       "      <td>TexasBogart</td>\n",
       "    </tr>\n",
       "    <tr>\n",
       "      <th>2</th>\n",
       "      <td>democrats</td>\n",
       "      <td>No audience allowed for Friday debate between ...</td>\n",
       "      <td></td>\n",
       "      <td>gotostep2</td>\n",
       "    </tr>\n",
       "    <tr>\n",
       "      <th>3</th>\n",
       "      <td>democrats</td>\n",
       "      <td>The Georgia Peach 🍑 🤣🤣</td>\n",
       "      <td></td>\n",
       "      <td>ImaginationFree6807</td>\n",
       "    </tr>\n",
       "    <tr>\n",
       "      <th>4</th>\n",
       "      <td>democrats</td>\n",
       "      <td>Truth</td>\n",
       "      <td></td>\n",
       "      <td>Lali-confused</td>\n",
       "    </tr>\n",
       "  </tbody>\n",
       "</table>\n",
       "</div>"
      ],
      "text/plain": [
       "   subreddit                                              title  \\\n",
       "0  democrats                                The Georgia Peach 🍑   \n",
       "1  democrats  Hurricane Ian’s Toll Is Severe. Lack of Insura...   \n",
       "2  democrats  No audience allowed for Friday debate between ...   \n",
       "3  democrats                             The Georgia Peach 🍑 🤣🤣   \n",
       "4  democrats                                              Truth   \n",
       "\n",
       "                                            selftext               author  \n",
       "0                                                     ImaginationFree6807  \n",
       "1  1. Vote for politicians who don’t believe in c...          TexasBogart  \n",
       "2                                                               gotostep2  \n",
       "3                                                     ImaginationFree6807  \n",
       "4                                                           Lali-confused  "
      ]
     },
     "execution_count": 6,
     "metadata": {},
     "output_type": "execute_result"
    }
   ],
   "source": [
    "demdata.head()"
   ]
  },
  {
   "cell_type": "code",
   "execution_count": 7,
   "id": "d94f0765-e7cd-4a4e-bff8-f35518f110ba",
   "metadata": {},
   "outputs": [
    {
     "name": "stderr",
     "output_type": "stream",
     "text": [
      "C:\\Users\\dylan\\AppData\\Local\\Temp\\ipykernel_7224\\317194077.py:1: SettingWithCopyWarning: \n",
      "A value is trying to be set on a copy of a slice from a DataFrame.\n",
      "Try using .loc[row_indexer,col_indexer] = value instead\n",
      "\n",
      "See the caveats in the documentation: https://pandas.pydata.org/pandas-docs/stable/user_guide/indexing.html#returning-a-view-versus-a-copy\n",
      "  demdata['title'] = demdata['title'].str.lower()\n"
     ]
    }
   ],
   "source": [
    "demdata['title'] = demdata['title'].str.lower()"
   ]
  },
  {
   "cell_type": "markdown",
   "id": "e0ce9322-44fd-4a22-b3b8-3e7fb8faaa94",
   "metadata": {},
   "source": [
    "## Republican Subreddit Collection"
   ]
  },
  {
   "cell_type": "code",
   "execution_count": 8,
   "id": "d546d020-a425-4b6a-9a44-e843f4f07ec2",
   "metadata": {},
   "outputs": [
    {
     "name": "stderr",
     "output_type": "stream",
     "text": [
      "C:\\Users\\dylan\\AppData\\Local\\Temp\\ipykernel_7224\\462446494.py:25: FutureWarning: The frame.append method is deprecated and will be removed from pandas in a future version. Use pandas.concat instead.\n",
      "  rep_df= rep_df.append(tempdf2)\n",
      "C:\\Users\\dylan\\AppData\\Local\\Temp\\ipykernel_7224\\462446494.py:25: FutureWarning: The frame.append method is deprecated and will be removed from pandas in a future version. Use pandas.concat instead.\n",
      "  rep_df= rep_df.append(tempdf2)\n",
      "C:\\Users\\dylan\\AppData\\Local\\Temp\\ipykernel_7224\\462446494.py:25: FutureWarning: The frame.append method is deprecated and will be removed from pandas in a future version. Use pandas.concat instead.\n",
      "  rep_df= rep_df.append(tempdf2)\n",
      "C:\\Users\\dylan\\AppData\\Local\\Temp\\ipykernel_7224\\462446494.py:25: FutureWarning: The frame.append method is deprecated and will be removed from pandas in a future version. Use pandas.concat instead.\n",
      "  rep_df= rep_df.append(tempdf2)\n",
      "C:\\Users\\dylan\\AppData\\Local\\Temp\\ipykernel_7224\\462446494.py:25: FutureWarning: The frame.append method is deprecated and will be removed from pandas in a future version. Use pandas.concat instead.\n",
      "  rep_df= rep_df.append(tempdf2)\n",
      "C:\\Users\\dylan\\AppData\\Local\\Temp\\ipykernel_7224\\462446494.py:25: FutureWarning: The frame.append method is deprecated and will be removed from pandas in a future version. Use pandas.concat instead.\n",
      "  rep_df= rep_df.append(tempdf2)\n",
      "C:\\Users\\dylan\\AppData\\Local\\Temp\\ipykernel_7224\\462446494.py:25: FutureWarning: The frame.append method is deprecated and will be removed from pandas in a future version. Use pandas.concat instead.\n",
      "  rep_df= rep_df.append(tempdf2)\n",
      "C:\\Users\\dylan\\AppData\\Local\\Temp\\ipykernel_7224\\462446494.py:25: FutureWarning: The frame.append method is deprecated and will be removed from pandas in a future version. Use pandas.concat instead.\n",
      "  rep_df= rep_df.append(tempdf2)\n",
      "C:\\Users\\dylan\\AppData\\Local\\Temp\\ipykernel_7224\\462446494.py:25: FutureWarning: The frame.append method is deprecated and will be removed from pandas in a future version. Use pandas.concat instead.\n",
      "  rep_df= rep_df.append(tempdf2)\n",
      "C:\\Users\\dylan\\AppData\\Local\\Temp\\ipykernel_7224\\462446494.py:25: FutureWarning: The frame.append method is deprecated and will be removed from pandas in a future version. Use pandas.concat instead.\n",
      "  rep_df= rep_df.append(tempdf2)\n",
      "C:\\Users\\dylan\\AppData\\Local\\Temp\\ipykernel_7224\\462446494.py:25: FutureWarning: The frame.append method is deprecated and will be removed from pandas in a future version. Use pandas.concat instead.\n",
      "  rep_df= rep_df.append(tempdf2)\n",
      "C:\\Users\\dylan\\AppData\\Local\\Temp\\ipykernel_7224\\462446494.py:25: FutureWarning: The frame.append method is deprecated and will be removed from pandas in a future version. Use pandas.concat instead.\n",
      "  rep_df= rep_df.append(tempdf2)\n",
      "C:\\Users\\dylan\\AppData\\Local\\Temp\\ipykernel_7224\\462446494.py:25: FutureWarning: The frame.append method is deprecated and will be removed from pandas in a future version. Use pandas.concat instead.\n",
      "  rep_df= rep_df.append(tempdf2)\n",
      "C:\\Users\\dylan\\AppData\\Local\\Temp\\ipykernel_7224\\462446494.py:25: FutureWarning: The frame.append method is deprecated and will be removed from pandas in a future version. Use pandas.concat instead.\n",
      "  rep_df= rep_df.append(tempdf2)\n",
      "C:\\Users\\dylan\\AppData\\Local\\Temp\\ipykernel_7224\\462446494.py:25: FutureWarning: The frame.append method is deprecated and will be removed from pandas in a future version. Use pandas.concat instead.\n",
      "  rep_df= rep_df.append(tempdf2)\n",
      "C:\\Users\\dylan\\AppData\\Local\\Temp\\ipykernel_7224\\462446494.py:25: FutureWarning: The frame.append method is deprecated and will be removed from pandas in a future version. Use pandas.concat instead.\n",
      "  rep_df= rep_df.append(tempdf2)\n",
      "C:\\Users\\dylan\\AppData\\Local\\Temp\\ipykernel_7224\\462446494.py:25: FutureWarning: The frame.append method is deprecated and will be removed from pandas in a future version. Use pandas.concat instead.\n",
      "  rep_df= rep_df.append(tempdf2)\n",
      "C:\\Users\\dylan\\AppData\\Local\\Temp\\ipykernel_7224\\462446494.py:25: FutureWarning: The frame.append method is deprecated and will be removed from pandas in a future version. Use pandas.concat instead.\n",
      "  rep_df= rep_df.append(tempdf2)\n",
      "C:\\Users\\dylan\\AppData\\Local\\Temp\\ipykernel_7224\\462446494.py:25: FutureWarning: The frame.append method is deprecated and will be removed from pandas in a future version. Use pandas.concat instead.\n",
      "  rep_df= rep_df.append(tempdf2)\n",
      "C:\\Users\\dylan\\AppData\\Local\\Temp\\ipykernel_7224\\462446494.py:25: FutureWarning: The frame.append method is deprecated and will be removed from pandas in a future version. Use pandas.concat instead.\n",
      "  rep_df= rep_df.append(tempdf2)\n",
      "C:\\Users\\dylan\\AppData\\Local\\Temp\\ipykernel_7224\\462446494.py:25: FutureWarning: The frame.append method is deprecated and will be removed from pandas in a future version. Use pandas.concat instead.\n",
      "  rep_df= rep_df.append(tempdf2)\n",
      "C:\\Users\\dylan\\AppData\\Local\\Temp\\ipykernel_7224\\462446494.py:25: FutureWarning: The frame.append method is deprecated and will be removed from pandas in a future version. Use pandas.concat instead.\n",
      "  rep_df= rep_df.append(tempdf2)\n",
      "C:\\Users\\dylan\\AppData\\Local\\Temp\\ipykernel_7224\\462446494.py:25: FutureWarning: The frame.append method is deprecated and will be removed from pandas in a future version. Use pandas.concat instead.\n",
      "  rep_df= rep_df.append(tempdf2)\n",
      "C:\\Users\\dylan\\AppData\\Local\\Temp\\ipykernel_7224\\462446494.py:25: FutureWarning: The frame.append method is deprecated and will be removed from pandas in a future version. Use pandas.concat instead.\n",
      "  rep_df= rep_df.append(tempdf2)\n",
      "C:\\Users\\dylan\\AppData\\Local\\Temp\\ipykernel_7224\\462446494.py:25: FutureWarning: The frame.append method is deprecated and will be removed from pandas in a future version. Use pandas.concat instead.\n",
      "  rep_df= rep_df.append(tempdf2)\n",
      "C:\\Users\\dylan\\AppData\\Local\\Temp\\ipykernel_7224\\462446494.py:25: FutureWarning: The frame.append method is deprecated and will be removed from pandas in a future version. Use pandas.concat instead.\n",
      "  rep_df= rep_df.append(tempdf2)\n",
      "C:\\Users\\dylan\\AppData\\Local\\Temp\\ipykernel_7224\\462446494.py:25: FutureWarning: The frame.append method is deprecated and will be removed from pandas in a future version. Use pandas.concat instead.\n",
      "  rep_df= rep_df.append(tempdf2)\n",
      "C:\\Users\\dylan\\AppData\\Local\\Temp\\ipykernel_7224\\462446494.py:25: FutureWarning: The frame.append method is deprecated and will be removed from pandas in a future version. Use pandas.concat instead.\n",
      "  rep_df= rep_df.append(tempdf2)\n",
      "C:\\Users\\dylan\\AppData\\Local\\Temp\\ipykernel_7224\\462446494.py:25: FutureWarning: The frame.append method is deprecated and will be removed from pandas in a future version. Use pandas.concat instead.\n",
      "  rep_df= rep_df.append(tempdf2)\n",
      "C:\\Users\\dylan\\AppData\\Local\\Temp\\ipykernel_7224\\462446494.py:25: FutureWarning: The frame.append method is deprecated and will be removed from pandas in a future version. Use pandas.concat instead.\n",
      "  rep_df= rep_df.append(tempdf2)\n",
      "C:\\Users\\dylan\\AppData\\Local\\Temp\\ipykernel_7224\\462446494.py:25: FutureWarning: The frame.append method is deprecated and will be removed from pandas in a future version. Use pandas.concat instead.\n",
      "  rep_df= rep_df.append(tempdf2)\n",
      "C:\\Users\\dylan\\AppData\\Local\\Temp\\ipykernel_7224\\462446494.py:25: FutureWarning: The frame.append method is deprecated and will be removed from pandas in a future version. Use pandas.concat instead.\n",
      "  rep_df= rep_df.append(tempdf2)\n",
      "C:\\Users\\dylan\\AppData\\Local\\Temp\\ipykernel_7224\\462446494.py:25: FutureWarning: The frame.append method is deprecated and will be removed from pandas in a future version. Use pandas.concat instead.\n",
      "  rep_df= rep_df.append(tempdf2)\n",
      "C:\\Users\\dylan\\AppData\\Local\\Temp\\ipykernel_7224\\462446494.py:25: FutureWarning: The frame.append method is deprecated and will be removed from pandas in a future version. Use pandas.concat instead.\n",
      "  rep_df= rep_df.append(tempdf2)\n",
      "C:\\Users\\dylan\\AppData\\Local\\Temp\\ipykernel_7224\\462446494.py:25: FutureWarning: The frame.append method is deprecated and will be removed from pandas in a future version. Use pandas.concat instead.\n",
      "  rep_df= rep_df.append(tempdf2)\n",
      "C:\\Users\\dylan\\AppData\\Local\\Temp\\ipykernel_7224\\462446494.py:25: FutureWarning: The frame.append method is deprecated and will be removed from pandas in a future version. Use pandas.concat instead.\n",
      "  rep_df= rep_df.append(tempdf2)\n",
      "C:\\Users\\dylan\\AppData\\Local\\Temp\\ipykernel_7224\\462446494.py:25: FutureWarning: The frame.append method is deprecated and will be removed from pandas in a future version. Use pandas.concat instead.\n",
      "  rep_df= rep_df.append(tempdf2)\n",
      "C:\\Users\\dylan\\AppData\\Local\\Temp\\ipykernel_7224\\462446494.py:25: FutureWarning: The frame.append method is deprecated and will be removed from pandas in a future version. Use pandas.concat instead.\n",
      "  rep_df= rep_df.append(tempdf2)\n",
      "C:\\Users\\dylan\\AppData\\Local\\Temp\\ipykernel_7224\\462446494.py:25: FutureWarning: The frame.append method is deprecated and will be removed from pandas in a future version. Use pandas.concat instead.\n",
      "  rep_df= rep_df.append(tempdf2)\n"
     ]
    }
   ],
   "source": [
    "#data collection from Republican Subreddit\n",
    "url= 'https://api.pushshift.io/reddit/search/submission'\n",
    "\n",
    "#pull the fist 250 posts \n",
    "params1 = {\n",
    "            'subreddit' : 'Republican',\n",
    "            'size' : 250\n",
    "        }\n",
    "req = requests.get(url, params1)\n",
    "rep_data = req.json()\n",
    "tempdf= rep_data['data'] \n",
    "rep_df= pd.DataFrame(tempdf)\n",
    "\n",
    "#using a for loop to pull ~3k posts in batches of 250 (limit set by reddit API)\n",
    "for i in range(1,40):\n",
    "    params2 = {\n",
    "            'subreddit' : 'Republican',\n",
    "            'size' : 250,\n",
    "            'before': rep_df['created_utc'][-1:]\n",
    "        }\n",
    "\n",
    "    req2 = requests.get(url, params2)\n",
    "    rep_data2 = req2.json()\n",
    "    tempdf2= rep_data2['data']\n",
    "    rep_df= rep_df.append(tempdf2)"
   ]
  },
  {
   "cell_type": "code",
   "execution_count": 10,
   "id": "855f81df-237c-4310-bac3-032977fcc54d",
   "metadata": {},
   "outputs": [],
   "source": [
    "repdata= rep_df[['subreddit', 'title', 'selftext', 'author' ]]"
   ]
  },
  {
   "cell_type": "code",
   "execution_count": 11,
   "id": "86f0f67e-0852-47d6-bff1-d437ab46e3cb",
   "metadata": {},
   "outputs": [
    {
     "name": "stderr",
     "output_type": "stream",
     "text": [
      "C:\\Users\\dylan\\AppData\\Local\\Temp\\ipykernel_7224\\666624353.py:1: SettingWithCopyWarning: \n",
      "A value is trying to be set on a copy of a slice from a DataFrame.\n",
      "Try using .loc[row_indexer,col_indexer] = value instead\n",
      "\n",
      "See the caveats in the documentation: https://pandas.pydata.org/pandas-docs/stable/user_guide/indexing.html#returning-a-view-versus-a-copy\n",
      "  repdata['title'] = repdata['title'].str.lower()\n"
     ]
    }
   ],
   "source": [
    "repdata['title'] = repdata['title'].str.lower()"
   ]
  },
  {
   "cell_type": "code",
   "execution_count": 12,
   "id": "3ca5123c-47a1-41a7-8ded-7b92a803475f",
   "metadata": {},
   "outputs": [
    {
     "name": "stdout",
     "output_type": "stream",
     "text": [
      "Stored 'demdata' (DataFrame)\n",
      "Stored 'repdata' (DataFrame)\n"
     ]
    }
   ],
   "source": [
    "%store demdata\n",
    "%store repdata"
   ]
  },
  {
   "cell_type": "markdown",
   "id": "be5435e5-80b5-4cfc-bff8-5086a285fe7f",
   "metadata": {},
   "source": []
  }
 ],
 "metadata": {
  "kernelspec": {
   "display_name": "Python 3 (ipykernel)",
   "language": "python",
   "name": "python3"
  },
  "language_info": {
   "codemirror_mode": {
    "name": "ipython",
    "version": 3
   },
   "file_extension": ".py",
   "mimetype": "text/x-python",
   "name": "python",
   "nbconvert_exporter": "python",
   "pygments_lexer": "ipython3",
   "version": "3.9.12"
  }
 },
 "nbformat": 4,
 "nbformat_minor": 5
}
