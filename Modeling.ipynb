{
 "cells": [
  {
   "cell_type": "markdown",
   "id": "fc5f76b2-5029-4f53-ab49-1c639e61b867",
   "metadata": {},
   "source": [
    "### Problem Statement\n",
    "\n",
    "As a data scientist working on the next presidential campaign I need to get an understanding of what the voting base cares whether they are Republican or Democrat so that we can build a successful and flexible campaign. In this exercise I will collect user posts from Democrat and Republican subreddits and utilize NLP to identify what topics are top of mind and how each voter base is feeling about these topics utlizing Sentiment Analysis."
   ]
  },
  {
   "cell_type": "code",
   "execution_count": 1,
   "id": "6bb79551-88b8-4a44-ac39-f9ed47c42b4f",
   "metadata": {},
   "outputs": [],
   "source": [
    "import requests\n",
    "import pandas as pd\n",
    "import numpy as np\n",
    "import matplotlib.pyplot as plt\n",
    "import seaborn as sns\n",
    "\n",
    "from sklearn.linear_model import LogisticRegression, LinearRegression\n",
    "from sklearn.ensemble import RandomForestClassifier, ExtraTreesClassifier, GradientBoostingClassifier, AdaBoostClassifier, StackingClassifier\n",
    "from sklearn.model_selection import train_test_split, GridSearchCV\n",
    "from sklearn.pipeline import Pipeline\n",
    "from sklearn.metrics import plot_confusion_matrix, confusion_matrix\n",
    "from sklearn.feature_extraction.text import CountVectorizer, TfidfVectorizer\n",
    "from sklearn.neighbors import KNeighborsClassifier\n",
    "from sklearn.tree import DecisionTreeClassifier"
   ]
  },
  {
   "cell_type": "code",
   "execution_count": 2,
   "id": "26509768-c83d-4e7c-8934-b56a2b075a95",
   "metadata": {},
   "outputs": [],
   "source": [
    "%store -r demdata\n",
    "%store -r repdata"
   ]
  },
  {
   "cell_type": "code",
   "execution_count": 3,
   "id": "6b81739f-4d17-4167-a1d4-c8b6ddb0a083",
   "metadata": {},
   "outputs": [],
   "source": [
    "data= pd.concat([repdata, demdata])"
   ]
  },
  {
   "cell_type": "code",
   "execution_count": 4,
   "id": "f901bf8b-c3c5-4ff2-9a76-7314e876d430",
   "metadata": {},
   "outputs": [],
   "source": [
    "#Encode the target variable as numerical. 1 for Republican 0 for Dem\n",
    "data['subreddit']= data['subreddit'].map({'Republican': 1, 'democrats':0})"
   ]
  },
  {
   "cell_type": "code",
   "execution_count": 5,
   "id": "ba04089e-a35d-40a5-bfcf-82020227f1a5",
   "metadata": {},
   "outputs": [],
   "source": [
    "data['title'] = data['title'].str.lower()"
   ]
  },
  {
   "cell_type": "code",
   "execution_count": 6,
   "id": "4608b547-9e47-45f5-8e21-c6ff857ae595",
   "metadata": {},
   "outputs": [
    {
     "data": {
      "text/html": [
       "<div>\n",
       "<style scoped>\n",
       "    .dataframe tbody tr th:only-of-type {\n",
       "        vertical-align: middle;\n",
       "    }\n",
       "\n",
       "    .dataframe tbody tr th {\n",
       "        vertical-align: top;\n",
       "    }\n",
       "\n",
       "    .dataframe thead th {\n",
       "        text-align: right;\n",
       "    }\n",
       "</style>\n",
       "<table border=\"1\" class=\"dataframe\">\n",
       "  <thead>\n",
       "    <tr style=\"text-align: right;\">\n",
       "      <th></th>\n",
       "      <th>subreddit</th>\n",
       "      <th>title</th>\n",
       "      <th>author</th>\n",
       "      <th>num_comments</th>\n",
       "      <th>title_word_count</th>\n",
       "    </tr>\n",
       "  </thead>\n",
       "  <tbody>\n",
       "    <tr>\n",
       "      <th>0</th>\n",
       "      <td>1</td>\n",
       "      <td>'extremely concerning': elon musk on child por...</td>\n",
       "      <td>BroSteveWinter</td>\n",
       "      <td>1</td>\n",
       "      <td>10</td>\n",
       "    </tr>\n",
       "    <tr>\n",
       "      <th>3</th>\n",
       "      <td>1</td>\n",
       "      <td>florida gov. desantis says majority of post-hu...</td>\n",
       "      <td>tbburns2017</td>\n",
       "      <td>1</td>\n",
       "      <td>12</td>\n",
       "    </tr>\n",
       "    <tr>\n",
       "      <th>4</th>\n",
       "      <td>1</td>\n",
       "      <td>louden county virginia man arrested on child s...</td>\n",
       "      <td>tbburns2017</td>\n",
       "      <td>1</td>\n",
       "      <td>13</td>\n",
       "    </tr>\n",
       "    <tr>\n",
       "      <th>6</th>\n",
       "      <td>1</td>\n",
       "      <td>twitter shares soar on report elon musk agrees...</td>\n",
       "      <td>PinkClouds20</td>\n",
       "      <td>1</td>\n",
       "      <td>13</td>\n",
       "    </tr>\n",
       "    <tr>\n",
       "      <th>7</th>\n",
       "      <td>1</td>\n",
       "      <td>hollywood turns on kamala harris, ends vp’s po...</td>\n",
       "      <td>Patriots-United</td>\n",
       "      <td>1</td>\n",
       "      <td>12</td>\n",
       "    </tr>\n",
       "  </tbody>\n",
       "</table>\n",
       "</div>"
      ],
      "text/plain": [
       "   subreddit                                              title  \\\n",
       "0          1  'extremely concerning': elon musk on child por...   \n",
       "3          1  florida gov. desantis says majority of post-hu...   \n",
       "4          1  louden county virginia man arrested on child s...   \n",
       "6          1  twitter shares soar on report elon musk agrees...   \n",
       "7          1  hollywood turns on kamala harris, ends vp’s po...   \n",
       "\n",
       "            author  num_comments  title_word_count  \n",
       "0   BroSteveWinter             1                10  \n",
       "3      tbburns2017             1                12  \n",
       "4      tbburns2017             1                13  \n",
       "6     PinkClouds20             1                13  \n",
       "7  Patriots-United             1                12  "
      ]
     },
     "execution_count": 6,
     "metadata": {},
     "output_type": "execute_result"
    }
   ],
   "source": [
    "data.head()"
   ]
  },
  {
   "cell_type": "code",
   "execution_count": 7,
   "id": "9241887f-74f9-4d32-af50-3c1d5a8c6764",
   "metadata": {},
   "outputs": [
    {
     "data": {
      "text/plain": [
       "subreddit           0\n",
       "title               0\n",
       "author              0\n",
       "num_comments        0\n",
       "title_word_count    0\n",
       "dtype: int64"
      ]
     },
     "execution_count": 7,
     "metadata": {},
     "output_type": "execute_result"
    }
   ],
   "source": [
    "data.isnull().sum()"
   ]
  },
  {
   "cell_type": "code",
   "execution_count": 8,
   "id": "82eff5b2-809b-4386-829c-4fcf3af69f5f",
   "metadata": {},
   "outputs": [],
   "source": [
    "#Define X and y\n",
    "X= data['title']\n",
    "y= data['subreddit']\n",
    "\n",
    "#train test split\n",
    "X_train, X_test, y_train, y_test= train_test_split(X, y, random_state= 42, stratify= y)"
   ]
  },
  {
   "cell_type": "code",
   "execution_count": 30,
   "id": "ad49506b-e372-4159-b650-9e1dd13a75ba",
   "metadata": {},
   "outputs": [
    {
     "data": {
      "text/plain": [
       "1    0.550396\n",
       "0    0.449604\n",
       "Name: subreddit, dtype: float64"
      ]
     },
     "execution_count": 30,
     "metadata": {},
     "output_type": "execute_result"
    }
   ],
   "source": [
    "y_train.value_counts(normalize = True)"
   ]
  },
  {
   "cell_type": "code",
   "execution_count": 31,
   "id": "506f9082-0fda-4462-b752-67a1bbe68fd7",
   "metadata": {},
   "outputs": [
    {
     "data": {
      "text/plain": [
       "1    0.550633\n",
       "0    0.449367\n",
       "Name: subreddit, dtype: float64"
      ]
     },
     "execution_count": 31,
     "metadata": {},
     "output_type": "execute_result"
    }
   ],
   "source": [
    "y_test.value_counts(normalize = True)"
   ]
  },
  {
   "cell_type": "code",
   "execution_count": 9,
   "id": "3074c83b-9712-44fe-a992-64dde14dd02c",
   "metadata": {},
   "outputs": [
    {
     "name": "stdout",
     "output_type": "stream",
     "text": [
      "Train:\n",
      " 1    0.550396\n",
      "0    0.449604\n",
      "Name: subreddit, dtype: float64\n",
      "Test:\n",
      " 1    0.550633\n",
      "0    0.449367\n",
      "Name: subreddit, dtype: float64\n"
     ]
    }
   ],
   "source": [
    "#Check distribution of target variable on train and test sets\n",
    "print(f'Train:\\n',y_train.value_counts(normalize=True))\n",
    "print(f'Test:\\n', y_test.value_counts(normalize=True))"
   ]
  },
  {
   "cell_type": "markdown",
   "id": "979dcb4c-7c2f-45d0-8139-c14b40ce98df",
   "metadata": {},
   "source": [
    "### Logistic Regression"
   ]
  },
  {
   "cell_type": "code",
   "execution_count": 10,
   "id": "5f943326-ff43-452d-a8ed-781b90299592",
   "metadata": {},
   "outputs": [],
   "source": [
    "pipe = Pipeline([\n",
    "    ('cvec', CountVectorizer()),\n",
    "    ('lr', LogisticRegression())\n",
    "])\n",
    "\n",
    "pipe_params = {\n",
    "    'cvec__max_features': [2000, 3000, 4000],\n",
    "    'cvec__stop_words': [None, 'english'],\n",
    "    'cvec__min_df': [1, 2, 4],\n",
    "    'cvec__max_df': [1.0, .5],\n",
    "    'lr__C': [1.0, 0.1],\n",
    "    'lr__penalty': ['l2', 'none']\n",
    "}\n",
    "\n",
    "gs = GridSearchCV(pipe,\n",
    "                 param_grid=pipe_params,\n",
    "                 n_jobs = -1)"
   ]
  },
  {
   "cell_type": "code",
   "execution_count": 11,
   "id": "19ca7648-3d59-4a05-a13a-2c50edb4b6e2",
   "metadata": {},
   "outputs": [
    {
     "data": {
      "text/plain": [
       "GridSearchCV(estimator=Pipeline(steps=[('cvec', CountVectorizer()),\n",
       "                                       ('lr', LogisticRegression())]),\n",
       "             n_jobs=-1,\n",
       "             param_grid={'cvec__max_df': [1.0, 0.5],\n",
       "                         'cvec__max_features': [2000, 3000, 4000],\n",
       "                         'cvec__min_df': [1, 2, 4],\n",
       "                         'cvec__stop_words': [None, 'english'],\n",
       "                         'lr__C': [1.0, 0.1], 'lr__penalty': ['l2', 'none']})"
      ]
     },
     "execution_count": 11,
     "metadata": {},
     "output_type": "execute_result"
    }
   ],
   "source": [
    " gs.fit(X_train, y_train)"
   ]
  },
  {
   "cell_type": "code",
   "execution_count": 12,
   "id": "9ac02d0b-51e7-4ba5-b05a-c2eaeab17199",
   "metadata": {},
   "outputs": [
    {
     "name": "stdout",
     "output_type": "stream",
     "text": [
      "0.7160949868073879\n"
     ]
    },
    {
     "data": {
      "text/plain": [
       "{'cvec__max_df': 1.0,\n",
       " 'cvec__max_features': 4000,\n",
       " 'cvec__min_df': 2,\n",
       " 'cvec__stop_words': 'english',\n",
       " 'lr__C': 1.0,\n",
       " 'lr__penalty': 'l2'}"
      ]
     },
     "execution_count": 12,
     "metadata": {},
     "output_type": "execute_result"
    }
   ],
   "source": [
    "print(gs.best_score_)\n",
    "gs.best_params_"
   ]
  },
  {
   "cell_type": "code",
   "execution_count": 13,
   "id": "32e5ef98-a228-48ab-856e-97006282a515",
   "metadata": {},
   "outputs": [],
   "source": [
    "pred = gs.predict(X_test)"
   ]
  },
  {
   "cell_type": "code",
   "execution_count": 14,
   "id": "d3b912aa-378c-4de3-910e-59ae8d966dd0",
   "metadata": {},
   "outputs": [
    {
     "data": {
      "text/plain": [
       "0.9197889182058048"
      ]
     },
     "execution_count": 14,
     "metadata": {},
     "output_type": "execute_result"
    }
   ],
   "source": [
    "gs.score(X_train, y_train)"
   ]
  },
  {
   "cell_type": "code",
   "execution_count": 15,
   "id": "9797c30a-7726-4857-bb11-5e1e1380b293",
   "metadata": {},
   "outputs": [
    {
     "data": {
      "text/plain": [
       "0.7162447257383966"
      ]
     },
     "execution_count": 15,
     "metadata": {},
     "output_type": "execute_result"
    }
   ],
   "source": [
    "gs.score(X_test, y_test)"
   ]
  },
  {
   "cell_type": "markdown",
   "id": "4ff8ab7c-23f6-414f-af44-955cbed44f77",
   "metadata": {},
   "source": [
    "### Random Forest + Gridsearch"
   ]
  },
  {
   "cell_type": "code",
   "execution_count": 16,
   "id": "783757c1-26d7-4f44-a690-2d853728f934",
   "metadata": {},
   "outputs": [],
   "source": [
    "# #Instantiate the Count Vectorizer\n",
    "cvec= CountVectorizer(stop_words = 'english')\n",
    "\n",
    "X_train_rf = X_train\n",
    "X_test_rf = X_test\n",
    "\n",
    "# #Fit the model\n",
    "cvec.fit(X_train_rf)\n",
    "\n",
    "X_train_rf= cvec.transform(X_train_rf)\n",
    "\n",
    "# #Transform the test set\n",
    "X_test= cvec.transform(X_test_rf)\n",
    "\n",
    "# #Visualize the train data\n",
    "#train_df = pd.DataFrame(X_train.todense(), columns = cvec.get_feature_names_out())\n",
    "\n",
    "# train_df.head()"
   ]
  },
  {
   "cell_type": "code",
   "execution_count": 17,
   "id": "1930aae5-b9bb-4f4c-83f8-37deb89321c2",
   "metadata": {},
   "outputs": [
    {
     "name": "stdout",
     "output_type": "stream",
     "text": [
      "0.7257695690413368\n"
     ]
    },
    {
     "data": {
      "text/plain": [
       "{'max_depth': None, 'max_features': 5, 'n_estimators': 200, 'n_jobs': -1}"
      ]
     },
     "execution_count": 17,
     "metadata": {},
     "output_type": "execute_result"
    }
   ],
   "source": [
    "rf= RandomForestClassifier()\n",
    "rf_params = {\n",
    "    'n_estimators': [100, 150, 200],\n",
    "    'max_depth': [None, 1, 5],\n",
    "    'max_features' : [1, 3, 5],\n",
    "    'n_jobs': [-1]\n",
    "}\n",
    "\n",
    "gs = GridSearchCV(rf, param_grid= rf_params, cv = 3, n_jobs = -1)\n",
    "\n",
    "gs.fit(X_train_rf, y_train)\n",
    "print(gs.best_score_)\n",
    "gs.best_params_"
   ]
  },
  {
   "cell_type": "code",
   "execution_count": 18,
   "id": "6770f046-dc82-4bfd-843d-4b31fbb4acfa",
   "metadata": {},
   "outputs": [
    {
     "data": {
      "text/plain": [
       "0.9980650835532102"
      ]
     },
     "execution_count": 18,
     "metadata": {},
     "output_type": "execute_result"
    }
   ],
   "source": [
    "gs.score(X_train_rf, y_train)"
   ]
  },
  {
   "cell_type": "code",
   "execution_count": 19,
   "id": "9f2f5141-7b6d-4198-b282-cb4760c708f4",
   "metadata": {},
   "outputs": [
    {
     "data": {
      "text/plain": [
       "0.7399789029535865"
      ]
     },
     "execution_count": 19,
     "metadata": {},
     "output_type": "execute_result"
    }
   ],
   "source": [
    "gs.score(X_test, y_test)"
   ]
  },
  {
   "cell_type": "markdown",
   "id": "92730577-4f97-42bb-b926-4fbf2cd46695",
   "metadata": {},
   "source": [
    "## Boosting Model"
   ]
  },
  {
   "cell_type": "code",
   "execution_count": 20,
   "id": "bca8d16d-b843-4ad9-a804-e63b39c2cf4f",
   "metadata": {},
   "outputs": [
    {
     "data": {
      "text/plain": [
       "GridSearchCV(cv=3,\n",
       "             estimator=AdaBoostClassifier(base_estimator=DecisionTreeClassifier()),\n",
       "             param_grid={'base_estimator__max_depth': [1, 2],\n",
       "                         'learning_rate': [0.6, 1.0],\n",
       "                         'n_estimators': [50, 100, 150]})"
      ]
     },
     "execution_count": 20,
     "metadata": {},
     "output_type": "execute_result"
    }
   ],
   "source": [
    "#Ada Boost\n",
    "ada= AdaBoostClassifier(base_estimator = DecisionTreeClassifier())\n",
    "\n",
    "ada_params= {\n",
    "    'n_estimators': [50, 100, 150],\n",
    "    'base_estimator__max_depth':[1,2],\n",
    "    'learning_rate':[0.6, 1.0]\n",
    "}\n",
    "\n",
    "gs = GridSearchCV(ada, param_grid = ada_params, cv = 3)\n",
    "gs.fit(X_train_rf, y_train)"
   ]
  },
  {
   "cell_type": "code",
   "execution_count": 21,
   "id": "d84d4de5-cc04-42df-878c-aa1ef3c5e3ae",
   "metadata": {},
   "outputs": [
    {
     "data": {
      "text/plain": [
       "0.7759014951627089"
      ]
     },
     "execution_count": 21,
     "metadata": {},
     "output_type": "execute_result"
    }
   ],
   "source": [
    "gs.score(X_train_rf, y_train)"
   ]
  },
  {
   "cell_type": "code",
   "execution_count": 22,
   "id": "ea31b100-7e16-42ca-9a21-f3183c0d529c",
   "metadata": {},
   "outputs": [
    {
     "data": {
      "text/plain": [
       "0.6877637130801688"
      ]
     },
     "execution_count": 22,
     "metadata": {},
     "output_type": "execute_result"
    }
   ],
   "source": [
    "gs.score(X_test, y_test)"
   ]
  },
  {
   "cell_type": "code",
   "execution_count": null,
   "id": "b2956730-e849-426b-b13d-568bd56750b8",
   "metadata": {},
   "outputs": [],
   "source": []
  },
  {
   "cell_type": "code",
   "execution_count": 23,
   "id": "4d2055bc-19db-4100-bbe9-f5e258493363",
   "metadata": {},
   "outputs": [
    {
     "name": "stdout",
     "output_type": "stream",
     "text": [
      "0.6863676341248901\n"
     ]
    },
    {
     "data": {
      "text/plain": [
       "0.6751054852320675"
      ]
     },
     "execution_count": 23,
     "metadata": {},
     "output_type": "execute_result"
    }
   ],
   "source": [
    "#Graident Boost\n",
    "gboost= GradientBoostingClassifier()\n",
    "\n",
    "gboost_params = {\n",
    "    'max_depth': [2, 3, 4],\n",
    "    'n_estimators': [100, 125, 150],\n",
    "    'learning_rate': [0.8, 1.0, 0.1]\n",
    "}\n",
    "\n",
    "gb_gs = GridSearchCV(gboost, param_grid= gboost_params, cv =3)\n",
    "gb_gs.fit(X_train_rf, y_train)\n",
    "print(gb_gs.best_score_)\n",
    "gb_gs.score(X_test, y_test)"
   ]
  },
  {
   "cell_type": "code",
   "execution_count": 24,
   "id": "db1cebf8-2fe5-4bc7-b399-ae3d0d6b558c",
   "metadata": {},
   "outputs": [],
   "source": [
    "#Stacking Models"
   ]
  },
  {
   "cell_type": "code",
   "execution_count": 25,
   "id": "c94a23be-3748-4416-8c88-9d54162fa427",
   "metadata": {},
   "outputs": [],
   "source": [
    "level1_estimators = [\n",
    "    ('random_forest', RandomForestClassifier()),\n",
    "    ('lr', LogisticRegression()),\n",
    "    ('boost', AdaBoostClassifier())\n",
    "]\n",
    "\n",
    "stacked_model = StackingClassifier(estimators=level1_estimators,\n",
    "                                 final_estimator = LogisticRegression())"
   ]
  },
  {
   "cell_type": "code",
   "execution_count": 26,
   "id": "3e6b70bf-e081-47e7-9dec-2c35d154a4b2",
   "metadata": {},
   "outputs": [
    {
     "data": {
      "text/plain": [
       "StackingClassifier(estimators=[('random_forest', RandomForestClassifier()),\n",
       "                               ('lr', LogisticRegression()),\n",
       "                               ('boost', AdaBoostClassifier())],\n",
       "                   final_estimator=LogisticRegression())"
      ]
     },
     "execution_count": 26,
     "metadata": {},
     "output_type": "execute_result"
    }
   ],
   "source": [
    "# Fit\n",
    "stacked_model.fit(X_train_rf, y_train)"
   ]
  },
  {
   "cell_type": "code",
   "execution_count": 27,
   "id": "e80b7270-4e64-49ff-a01a-baa01745971e",
   "metadata": {},
   "outputs": [
    {
     "data": {
      "text/plain": [
       "0.9919085312225154"
      ]
     },
     "execution_count": 27,
     "metadata": {},
     "output_type": "execute_result"
    }
   ],
   "source": [
    "# Train score\n",
    "stacked_model.score(X_train_rf, y_train)"
   ]
  },
  {
   "cell_type": "code",
   "execution_count": 28,
   "id": "17d8fbb3-2f4d-461f-a0da-bd961f436315",
   "metadata": {},
   "outputs": [
    {
     "data": {
      "text/plain": [
       "0.7331223628691983"
      ]
     },
     "execution_count": 28,
     "metadata": {},
     "output_type": "execute_result"
    }
   ],
   "source": [
    "# Test score\n",
    "stacked_model.score(X_test, y_test)"
   ]
  },
  {
   "cell_type": "code",
   "execution_count": null,
   "id": "d3bd8b45-b35e-4611-9ca0-7b2023c908af",
   "metadata": {},
   "outputs": [],
   "source": []
  },
  {
   "cell_type": "code",
   "execution_count": null,
   "id": "f6103ccf-2619-4707-9719-4193b8d6ce48",
   "metadata": {},
   "outputs": [],
   "source": []
  },
  {
   "cell_type": "code",
   "execution_count": null,
   "id": "6c9ca2e4-efb3-4bbe-81c4-478a9ab082ab",
   "metadata": {},
   "outputs": [],
   "source": []
  },
  {
   "cell_type": "code",
   "execution_count": null,
   "id": "f9119222-3e72-4e1b-b463-854df7946186",
   "metadata": {},
   "outputs": [],
   "source": []
  },
  {
   "cell_type": "code",
   "execution_count": null,
   "id": "223d0709-4f31-4134-ac55-75aabfa8578c",
   "metadata": {},
   "outputs": [],
   "source": [
    "\n"
   ]
  }
 ],
 "metadata": {
  "kernelspec": {
   "display_name": "Python 3 (ipykernel)",
   "language": "python",
   "name": "python3"
  },
  "language_info": {
   "codemirror_mode": {
    "name": "ipython",
    "version": 3
   },
   "file_extension": ".py",
   "mimetype": "text/x-python",
   "name": "python",
   "nbconvert_exporter": "python",
   "pygments_lexer": "ipython3",
   "version": "3.9.12"
  }
 },
 "nbformat": 4,
 "nbformat_minor": 5
}
